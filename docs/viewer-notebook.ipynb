{
 "cells": [
  {
   "cell_type": "code",
   "execution_count": null,
   "metadata": {
    "tags": [
     "remove-cell"
    ]
   },
   "outputs": [],
   "source": [
    "# Setup script for the colab environment\n",
    "if 'google.colab' in str(get_ipython()):\n",
    "    # Install nerfbaselines and conda to google colab\n",
    "    !pip install -q git+https://github.com/nerfbaselines/nerfbaselines.git"
   ]
  },
  {
   "cell_type": "markdown",
   "metadata": {},
   "source": [
    "The viewer is implemented in the {py:class}`nerfbaselines.viewer.Viewer` class. The class\n",
    "is a context manager and it has to be entered first (which spawns the background process handling HTTP requests).\n",
    "In this tutorial, we will make use of {py:class}`contextlib.ExitStack` to open the context manager across different\n",
    "Notebook cells. After the viewer is created, we will call `viewer.show_in_notebook` which opens an iframe containing\n",
    "the viewer. There is also a button {octicon}`link-external` to open the viewer in a new tab."
   ]
  },
  {
   "cell_type": "code",
   "execution_count": null,
   "metadata": {},
   "outputs": [],
   "source": [
    "from contextlib import ExitStack\n",
    "from nerfbaselines.datasets import load_dataset\n",
    "\n",
    "# We will use ExitStack to keep context open across multiple cells\n",
    "stack = ExitStack()\n",
    "\n",
    "# Model can be None (in that case we will only visualize dataset)\n",
    "model = None\n",
    "\n",
    "# Create the train and test datasets. Note, that we do not need \n",
    "# to load the features, as the images will be automatically loaded\n",
    "# and cached when they are required by the viewer in the background\n",
    "# process. This speeds up the viewer load time.\n",
    "train_dataset = load_dataset(\"external://blender/lego\", split=\"train\", load_features=False)\n",
    "test_dataset = load_dataset(\"external://blender/lego\", split=\"train\", load_features=False)"
   ]
  },
  {
   "cell_type": "code",
   "execution_count": null,
   "metadata": {},
   "outputs": [],
   "source": [
    "# First, we prepare the method to render. In this example, we load an existing\n",
    "# checkpoint from the official nerfbaselines repository. However, this requires\n",
    "# the method to be installed, so we skip it to save time. If you want to see the actual rendering, \n",
    "# Please run this cell (it can take long time to install the backend on the first run).\n",
    "# However, you can also skip this cell and only visualize the dataset.\n",
    "from nerfbaselines import load_checkpoint\n",
    "\n",
    "if 'google.colab' in str(get_ipython()):\n",
    "    # Install conda to google colab\n",
    "    !pip install -q condacolab\n",
    "    import condacolab\n",
    "    condacolab.install()\n",
    "    !nerfbaselines install --method gsplat --backend conda\n",
    "\n",
    "# Load the checkpoint\n",
    "checkpoint = \"https://huggingface.co/nerfbaselines/nerfbaselines/resolve/main/gsplat/blender/lego.zip/checkpoint\"\n",
    "model, nb_info = stack.enter_context(load_checkpoint(checkpoint, backend=\"conda\"))"
   ]
  },
  {
   "cell_type": "code",
   "execution_count": 11,
   "metadata": {},
   "outputs": [
    {
     "data": {
      "text/markdown": [
       "\n",
       "![images/viewer-colab.jpg](images/viewer-colab.jpg)\n"
      ],
      "text/plain": [
       "<IPython.core.display.Markdown object>"
      ]
     },
     "metadata": {},
     "output_type": "display_data"
    }
   ],
   "source": [
    "from nerfbaselines.viewer import Viewer\n",
    "\n",
    "# Initialize the viewer\n",
    "viewer = stack.enter_context(Viewer(\n",
    "    train_dataset=train_dataset, \n",
    "    test_dataset=test_dataset, \n",
    "    model=model))\n",
    "\n",
    "# The `show_in_notebook` function opens the iframe inside jupyter/colab.\n",
    "# After running the function, the viewer will already be visible,\n",
    "# But it will not be able to render the images yet. In order,\n",
    "# to handle the rendering requests, we need to call `viewer.run()`\n",
    "viewer.show_in_notebook()\n",
    "\n",
    "# Finally, we run `viewer.run()` which waits in loop for new render requests \n",
    "# and handles them. We recommend to call the function in a separate cell\n",
    "# as it can be stopped without stopping the viewer itself. This is useful\n",
    "viewer.run()"
   ]
  }
 ],
 "metadata": {
  "kernelspec": {
   "display_name": "nb",
   "language": "python",
   "name": "python3"
  },
  "language_info": {
   "codemirror_mode": {
    "name": "ipython",
    "version": 3
   },
   "file_extension": ".py",
   "mimetype": "text/x-python",
   "name": "python",
   "nbconvert_exporter": "python",
   "pygments_lexer": "ipython3",
   "version": "3.11.6"
  },
  "mystnb": {
   "execution_mode": "off",
   "merge_streams": true
  }
 },
 "nbformat": 4,
 "nbformat_minor": 2
}
